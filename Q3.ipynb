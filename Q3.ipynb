{
 "cells": [
  {
   "cell_type": "code",
   "execution_count": 7,
   "id": "18375062",
   "metadata": {
    "scrolled": true
   },
   "outputs": [
    {
     "name": "stdout",
     "output_type": "stream",
     "text": [
      "1. 크롤링할 이미지의 키워드는 무엇입니까?: cat\n",
      "2. 크롤링 할 건수는 몇건입니까?: 10\n",
      "3. 파일 저장 경로를 입력하세요(예: c:\\data\\): D:\\dava\\\n",
      " D:\\dava\\ 존재하여 이미지를 다운로드하겠습니다.\n",
      "image_1.jpg 다운로드 완료\n",
      "image_2.jpg 다운로드 완료\n",
      "image_3.jpg 다운로드 완료\n",
      "image_4.jpg 다운로드 완료\n",
      "image_5.jpg 다운로드 완료\n",
      "image_6.jpg 다운로드 완료\n",
      "image_7.jpg 다운로드 완료\n",
      "image_8.jpg 다운로드 완료\n",
      "image_9.jpg 다운로드 완료\n",
      "image_10.jpg 다운로드 완료\n"
     ]
    }
   ],
   "source": [
    "from selenium import webdriver\n",
    "from selenium.webdriver.common.by import By\n",
    "from webdriver_manager.chrome import ChromeDriverManager\n",
    "import requests\n",
    "import os\n",
    "import time\n",
    "\n",
    "from selenium import webdriver\n",
    "from selenium.webdriver.chrome.service import Service\n",
    "from selenium.webdriver.chrome.options import Options\n",
    "from webdriver_manager.chrome import ChromeDriverManager\n",
    "\n",
    "\n",
    "options = Options()\n",
    "options.add_argument('--headless')  \n",
    "service = Service(ChromeDriverManager().install())\n",
    "driver = webdriver.Chrome(service=service, options=options)\n",
    "\n",
    "\n",
    "\n",
    "search_query = input('1. 크롤링할 이미지의 키워드는 무엇입니까?: ')\n",
    "num_images = int(input('2. 크롤링 할 건수는 몇건입니까?: '))\n",
    "file_path = input('3. 파일 저장 경로를 입력하세요(예: c:\\data\\): ')\n",
    "\n",
    "\n",
    "if not os.path.exists(file_path):\n",
    "    print(f\" {file_path}  존재하지 않아 생성 후 다운로드 진행합니다.\")\n",
    "    os.makedirs(file_path)\n",
    "else:\n",
    "    print(f\" {file_path} 존재하여 이미지를 다운로드하겠습니다.\")\n",
    "\n",
    "\n",
    "api_key = \"37201411-c14d57854b0cb6d07e4ff6b1c\"\n",
    "\n",
    "\n",
    "url = f\"https://pixabay.com/api/?key={api_key}&q={search_query}&image_type=photo\"\n",
    "\n",
    "\n",
    "now = time.localtime()\n",
    "s = '%04d년 %02d월 %02d일 %02d시 %02d분 %02d초' %(now.tm_year, now.tm_mon, now.tm_mday , now.tm_hour, now.tm_min, now.tm_sec)\n",
    "\n",
    "os.chdir(file_path)\n",
    "os.makedirs(file_path + s + ' - ' + search_query)\n",
    "os.chdir(file_path + s + ' - ' + search_query)\n",
    "f_path = file_path + s + ' - ' + search_query\n",
    "\n",
    "\n",
    "response = requests.get(url)\n",
    "data = response.json()\n",
    "hits = data['hits'][:num_images]\n",
    "\n",
    "\n",
    "for i, hit in enumerate(hits):\n",
    "    image_url = hit['webformatURL']\n",
    "    image_filename = f'image_{i+1}.jpg'\n",
    "    image_path = os.path.join(f_path, image_filename)\n",
    "\n",
    "    image_response = requests.get(image_url)\n",
    "    with open(image_path, 'wb') as image_file:\n",
    "        image_file.write(image_response.content)\n",
    "        \n",
    "    print(f'{image_filename} 다운로드 완료')"
   ]
  },
  {
   "cell_type": "code",
   "execution_count": null,
   "id": "05e229a3",
   "metadata": {},
   "outputs": [],
   "source": []
  }
 ],
 "metadata": {
  "kernelspec": {
   "display_name": "Python 3 (ipykernel)",
   "language": "python",
   "name": "python3"
  },
  "language_info": {
   "codemirror_mode": {
    "name": "ipython",
    "version": 3
   },
   "file_extension": ".py",
   "mimetype": "text/x-python",
   "name": "python",
   "nbconvert_exporter": "python",
   "pygments_lexer": "ipython3",
   "version": "3.11.4"
  }
 },
 "nbformat": 4,
 "nbformat_minor": 5
}

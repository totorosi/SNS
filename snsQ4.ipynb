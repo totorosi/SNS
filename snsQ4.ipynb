{
 "cells": [
  {
   "cell_type": "code",
   "execution_count": null,
   "id": "8e23361a",
   "metadata": {},
   "outputs": [],
   "source": []
  },
  {
   "cell_type": "code",
   "execution_count": 28,
   "id": "ccb1c9af",
   "metadata": {},
   "outputs": [
    {
     "name": "stdout",
     "output_type": "stream",
     "text": [
      "구글에서 다운받을 pdf의 주제를 입력하세요: 일본음식\n",
      "다운받을 pdf파일의 개수를 입력하세요: 3\n",
      "크롤링한 결과를 저장할 경로를 입력하세요(예: C:/py_temp/): D:\\dava\\\n",
      "웹드라이버 설정 시작\n"
     ]
    },
    {
     "name": "stderr",
     "output_type": "stream",
     "text": [
      "The version of chrome cannot be detected. Trying with latest driver version\n"
     ]
    },
    {
     "name": "stdout",
     "output_type": "stream",
     "text": [
      "웹드라이버 설정 완료\n",
      "입력한 경로인 D:\\dava\\ 가 존재하어 바로 PDF 다운로드하겠습니다.\n"
     ]
    },
    {
     "name": "stderr",
     "output_type": "stream",
     "text": [
      "C:\\Users\\sec\\AppData\\Local\\Programs\\Python\\Python311\\Lib\\site-packages\\urllib3\\connectionpool.py:1056: InsecureRequestWarning: Unverified HTTPS request is being made to host 'web-japan.org'. Adding certificate verification is strongly advised. See: https://urllib3.readthedocs.io/en/1.26.x/advanced-usage.html#ssl-warnings\n",
      "  warnings.warn(\n"
     ]
    },
    {
     "name": "stdout",
     "output_type": "stream",
     "text": [
      "PDF 파일 1 저장 완료\n"
     ]
    },
    {
     "name": "stderr",
     "output_type": "stream",
     "text": [
      "C:\\Users\\sec\\AppData\\Local\\Programs\\Python\\Python311\\Lib\\site-packages\\urllib3\\connectionpool.py:1056: InsecureRequestWarning: Unverified HTTPS request is being made to host 'www.kr.emb-japan.go.jp'. Adding certificate verification is strongly advised. See: https://urllib3.readthedocs.io/en/1.26.x/advanced-usage.html#ssl-warnings\n",
      "  warnings.warn(\n"
     ]
    },
    {
     "name": "stdout",
     "output_type": "stream",
     "text": [
      "PDF 파일 2 저장 완료\n"
     ]
    },
    {
     "name": "stderr",
     "output_type": "stream",
     "text": [
      "C:\\Users\\sec\\AppData\\Local\\Programs\\Python\\Python311\\Lib\\site-packages\\urllib3\\connectionpool.py:1056: InsecureRequestWarning: Unverified HTTPS request is being made to host 'koreascience.or.kr'. Adding certificate verification is strongly advised. See: https://urllib3.readthedocs.io/en/1.26.x/advanced-usage.html#ssl-warnings\n",
      "  warnings.warn(\n",
      "C:\\Users\\sec\\AppData\\Local\\Programs\\Python\\Python311\\Lib\\site-packages\\urllib3\\connectionpool.py:1056: InsecureRequestWarning: Unverified HTTPS request is being made to host 'koreascience.kr'. Adding certificate verification is strongly advised. See: https://urllib3.readthedocs.io/en/1.26.x/advanced-usage.html#ssl-warnings\n",
      "  warnings.warn(\n"
     ]
    },
    {
     "name": "stdout",
     "output_type": "stream",
     "text": [
      "PDF 파일 3 저장 완료\n",
      "크롤링 작업을 완료하여 종료합니다.\n"
     ]
    }
   ],
   "source": [
    "from bs4 import BeautifulSoup as bs\n",
    "from selenium import webdriver\n",
    "from webdriver_manager.chrome import ChromeDriverManager\n",
    "from selenium.webdriver.common.keys import Keys\n",
    "from selenium.webdriver.common.by import By\n",
    "from selenium.webdriver.support.ui import WebDriverWait\n",
    "from selenium.webdriver.support import expected_conditions as EC\n",
    "import requests\n",
    "import os\n",
    "import time\n",
    "from selenium.webdriver.chrome.options import Options\n",
    "\n",
    "def download_pdf_from_google(keyword, count, folder_path):\n",
    "    print(\"웹드라이버 설정 시작\")\n",
    "    path = ChromeDriverManager().install()\n",
    "    chrome_options = Options()\n",
    "    chrome_options.add_argument(\"--headless\")\n",
    "    driver = webdriver.Chrome(options=chrome_options)\n",
    "    print(\"웹드라이버 설정 완료\")\n",
    "\n",
    "    if not os.path.exists(folder_path):\n",
    "        print(f\"입력하신 경로에 {folder_path} 가 존재하지 않아 생성 후 다운로드 진행합니다.\")\n",
    "        os.makedirs(folder_path)\n",
    "    else:\n",
    "        print(f\"입력한 경로인 {folder_path} 가 존재하어 바로 PDF 다운로드하겠습니다.\")\n",
    "\n",
    "    url = \"https://www.google.com/search?q=\" + keyword\n",
    "\n",
    "    driver.get(url)\n",
    "    html = driver.page_source\n",
    "    soup = bs(html, 'html.parser')\n",
    "    elements = soup.find_all('span', class_='ZGwO7 s4H5Cf C0kchf NaCKVc yUTMj VDgVie')\n",
    "    href_list = []\n",
    "\n",
    "    while len(href_list) < count:\n",
    "        driver.implicitly_wait(3)\n",
    "        html = driver.page_source\n",
    "        soup = bs(html, 'html.parser')\n",
    "        elements = soup.find_all('a')\n",
    "        for element in elements:\n",
    "            href = element.get('href')\n",
    "            if href and href.endswith('.pdf'):\n",
    "                href_list.append(href)\n",
    "                if len(href_list) == count:\n",
    "                    break\n",
    "        driver.find_element(By.TAG_NAME, 'body').send_keys(Keys.END)\n",
    "        time.sleep(1)\n",
    "\n",
    "        try:\n",
    "            if EC.presence_of_element_located((By.CSS_SELECTOR, '#pnnext')) is not None:\n",
    "                next_button = WebDriverWait(driver, 10).until(\n",
    "                    EC.presence_of_element_located((By.CSS_SELECTOR, '#pnnext')))\n",
    "                next_button.click()\n",
    "            else:\n",
    "                driver.find_element(By.TAG_NAME, 'body').send_keys(Keys.PAGE_DOWN)\n",
    "        except:\n",
    "            break\n",
    "\n",
    "    for index, href in enumerate(href_list):\n",
    "        response = requests.get(href, verify=False)\n",
    "        file_path = os.path.join(folder_path, f\"{keyword} 검색결과 {index+1}.pdf\")\n",
    "        with open(file_path, 'wb') as f:\n",
    "            f.write(response.content)\n",
    "        print(f\"PDF 파일 {index+1} 저장 완료\")\n",
    "\n",
    "    print(\"크롤링 작업을 완료하여 종료합니다.\")\n",
    "    driver.close()\n",
    "\n",
    "# 사용 예시\n",
    "keyword = input(\"구글에서 다운받을 pdf의 주제를 입력하세요: \")\n",
    "count = int(input(\"다운받을 pdf파일의 개수를 입력하세요: \"))\n",
    "folder_path = input(\"크롤링한 결과를 저장할 경로를 입력하세요(예: C:/py_temp/): \")\n",
    "\n",
    "download_pdf_from_google(keyword, count, folder_path)\n",
    "\n"
   ]
  },
  {
   "cell_type": "code",
   "execution_count": null,
   "id": "32bc46ca",
   "metadata": {},
   "outputs": [],
   "source": []
  },
  {
   "cell_type": "code",
   "execution_count": null,
   "id": "d4873fed",
   "metadata": {},
   "outputs": [],
   "source": []
  }
 ],
 "metadata": {
  "kernelspec": {
   "display_name": "Python 3 (ipykernel)",
   "language": "python",
   "name": "python3"
  },
  "language_info": {
   "codemirror_mode": {
    "name": "ipython",
    "version": 3
   },
   "file_extension": ".py",
   "mimetype": "text/x-python",
   "name": "python",
   "nbconvert_exporter": "python",
   "pygments_lexer": "ipython3",
   "version": "3.11.4"
  }
 },
 "nbformat": 4,
 "nbformat_minor": 5
}

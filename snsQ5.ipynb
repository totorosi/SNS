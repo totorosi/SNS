{
 "cells": [
  {
   "cell_type": "code",
   "execution_count": null,
   "id": "4154b018",
   "metadata": {},
   "outputs": [],
   "source": []
  },
  {
   "cell_type": "code",
   "execution_count": null,
   "id": "d4540c3b",
   "metadata": {
    "scrolled": true
   },
   "outputs": [],
   "source": []
  },
  {
   "cell_type": "code",
   "execution_count": 8,
   "id": "5956d80d",
   "metadata": {},
   "outputs": [
    {
     "name": "stdout",
     "output_type": "stream",
     "text": [
      "검색할 키워드를 입력하세요: 여행\n",
      "검색할 영상의 개수를 입력하세요: 10\n",
      "추출할 댓글의 개수를 입력하세요: 10\n",
      "크롤링한 결과를 저장할 경로를 입력하세요(예: C:/py_temp/): D:\\dava\\\n",
      "입력한 경로인 D:\\dava\\ 가 존재하어 바로 크롤링 작업을 시작하겠습니다.\n",
      "웹드라이버 설정 시작\n"
     ]
    },
    {
     "name": "stderr",
     "output_type": "stream",
     "text": [
      "The version of chrome cannot be detected. Trying with latest driver version\n"
     ]
    },
    {
     "name": "stdout",
     "output_type": "stream",
     "text": [
      "웹드라이버 설정 완료\n",
      "데이터 저장이 완료되었습니다.\n"
     ]
    }
   ],
   "source": [
    "import pandas as pd\n",
    "from selenium import webdriver\n",
    "from webdriver_manager.chrome import ChromeDriverManager\n",
    "from selenium.webdriver.common.keys import Keys\n",
    "from selenium.webdriver.common.by import By\n",
    "from bs4 import BeautifulSoup\n",
    "import time\n",
    "import sys\n",
    "import os\n",
    "from selenium.webdriver.chrome.options import Options\n",
    "\n",
    "\n",
    "keyword = input(\"검색할 키워드를 입력하세요: \")\n",
    "num_videos = int(input(\"검색할 영상의 개수를 입력하세요: \"))\n",
    "num_comments = int(input(\"추출할 댓글의 개수를 입력하세요: \"))\n",
    "file_path = input(\"크롤링한 결과를 저장할 경로를 입력하세요(예: C:/py_temp/): \")\n",
    "s = os.path.sep\n",
    "save_txt = f\"{file_path}{s}{keyword}.txt\"\n",
    "save_csv = f\"{file_path}{s}{keyword}.csv\"\n",
    "save_xlsx = f\"{file_path}{s}{keyword}.xlsx\"\n",
    "\n",
    "if not os.path.exists(file_path):\n",
    "    print(f\"입력하신 경로에 {file_path} 가 존재하지 않아 생성 후 크롤링 작업을 진행합니다.\")\n",
    "    os.makedirs(file_path)\n",
    "else:\n",
    "    print(f\"입력한 경로인 {file_path} 가 존재하어 바로 크롤링 작업을 시작하겠습니다.\")\n",
    "\n",
    "print(\"웹드라이버 설정 시작\")\n",
    "path = ChromeDriverManager().install()\n",
    "chrome_options = Options()\n",
    "chrome_options.add_argument(\"--headless\")\n",
    "driver = webdriver.Chrome(options=chrome_options)\n",
    "print(\"웹드라이버 설정 완료\")\n",
    "\n",
    "driver.get(f\"https://www.youtube.com/results?search_query={keyword}\")\n",
    "\n",
    "# Scroll down to load more videos\n",
    "while len(driver.find_elements(By.TAG_NAME, 'ytd-video-renderer')) < num_videos:\n",
    "    driver.find_element(By.TAG_NAME, 'body').send_keys(Keys.END)\n",
    "    time.sleep(2)\n",
    "\n",
    "soup = BeautifulSoup(driver.page_source, 'html.parser')\n",
    "\n",
    "video_links = []\n",
    "for link in soup.select('a#video-title'):\n",
    "    video_links.append(\"https://www.youtube.com\" + link['href'])\n",
    "\n",
    "data = []\n",
    "\n",
    "for video_url in video_links[:num_videos]:\n",
    "    driver.get(video_url)\n",
    "    time.sleep(3)\n",
    "    soup = BeautifulSoup(driver.page_source, 'html.parser')\n",
    "\n",
    "    comments = soup.select('yt-formatted-string#content-text')\n",
    "    comment_authors = soup.select('a#author-text')\n",
    "    comment_timestamps = soup.select('yt-formatted-string.published-time-text')\n",
    "    num_comments_actual = min(num_comments, len(comments), len(comment_authors), len(comment_timestamps))\n",
    "\n",
    "    for i in range(num_comments_actual):\n",
    "        comment = comments[i]\n",
    "        author = comment_authors[i].text.strip()\n",
    "        timestamp = comment_timestamps[i].text\n",
    "        content = comment.text\n",
    "\n",
    "        print(\"-\" * 30)\n",
    "        print(\"영상 URL: \", video_url)\n",
    "        print(\"댓글 작성자명: \", author)\n",
    "        print(\"댓글 작성시간: \", timestamp)\n",
    "        print(\"댓글 내용: \", content)\n",
    "        print(\"-\" * 30)\n",
    "        print(\"\\n\")\n",
    "\n",
    "        data.append([len(data) + 1, video_url, author, timestamp, content])\n",
    "\n",
    "df = pd.DataFrame(data, columns=['', '영상 URL', '댓글 작성자명', '댓글 작성시간', '댓글 내용'])\n",
    "df.to_csv(save_csv, index=False, header=True)\n",
    "df.to_excel(save_xlsx, index=False, header=True)\n",
    "\n",
    "driver.quit()\n",
    "\n",
    "print(\"데이터 저장이 완료되었습니다.\")\n"
   ]
  },
  {
   "cell_type": "code",
   "execution_count": null,
   "id": "db9ae5b1",
   "metadata": {},
   "outputs": [],
   "source": []
  }
 ],
 "metadata": {
  "kernelspec": {
   "display_name": "Python 3 (ipykernel)",
   "language": "python",
   "name": "python3"
  },
  "language_info": {
   "codemirror_mode": {
    "name": "ipython",
    "version": 3
   },
   "file_extension": ".py",
   "mimetype": "text/x-python",
   "name": "python",
   "nbconvert_exporter": "python",
   "pygments_lexer": "ipython3",
   "version": "3.11.4"
  }
 },
 "nbformat": 4,
 "nbformat_minor": 5
}
